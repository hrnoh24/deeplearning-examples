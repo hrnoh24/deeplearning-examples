{
 "cells": [
  {
   "cell_type": "markdown",
   "id": "7443d992-4e72-4d9d-99c0-dba2128addad",
   "metadata": {},
   "source": [
    "### Transformer 직접 구현해보기!"
   ]
  },
  {
   "cell_type": "markdown",
   "id": "0f01d431-5a7b-493f-8275-616adfafa397",
   "metadata": {},
   "source": [
    "transformer의 구조 복습겸 transformer를 차근차근 구현해본다."
   ]
  },
  {
   "cell_type": "markdown",
   "id": "0f46fe46-496a-417c-b842-3e7456eddfd0",
   "metadata": {},
   "source": [
    "---"
   ]
  },
  {
   "cell_type": "markdown",
   "id": "0d8adcfc-a9cb-487b-8daa-e6c8c9d2cec8",
   "metadata": {},
   "source": [
    "### 필요한 모듈 임포트"
   ]
  },
  {
   "cell_type": "code",
   "execution_count": null,
   "id": "fda819a4-625d-4666-845e-fc06ac7c30a5",
   "metadata": {},
   "outputs": [],
   "source": [
    "import torch\n",
    "import torch.nn as nn\n",
    "import torch.nn.functional as F"
   ]
  },
  {
   "cell_type": "markdown",
   "id": "9feec581-3861-4278-b243-27ca8ef8eb49",
   "metadata": {},
   "source": [
    "---"
   ]
  },
  {
   "cell_type": "markdown",
   "id": "67e9f847-7cac-406e-a413-3770eea56360",
   "metadata": {},
   "source": [
    "### Transformer Encoder"
   ]
  },
  {
   "cell_type": "code",
   "execution_count": null,
   "id": "badbf47a-2479-4241-a651-a746b8d71c98",
   "metadata": {},
   "outputs": [],
   "source": []
  }
 ],
 "metadata": {
  "kernelspec": {
   "display_name": "Python 3 (ipykernel)",
   "language": "python",
   "name": "python3"
  },
  "language_info": {
   "codemirror_mode": {
    "name": "ipython",
    "version": 3
   },
   "file_extension": ".py",
   "mimetype": "text/x-python",
   "name": "python",
   "nbconvert_exporter": "python",
   "pygments_lexer": "ipython3",
   "version": "3.10.13"
  }
 },
 "nbformat": 4,
 "nbformat_minor": 5
}
